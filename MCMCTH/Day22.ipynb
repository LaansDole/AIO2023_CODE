{
  "nbformat": 4,
  "nbformat_minor": 0,
  "metadata": {
    "colab": {
      "provenance": [],
      "authorship_tag": "ABX9TyPttmK9PFVhbsy6hfPmhvIT",
      "include_colab_link": true
    },
    "kernelspec": {
      "name": "python3",
      "display_name": "Python 3"
    },
    "language_info": {
      "name": "python"
    }
  },
  "cells": [
    {
      "cell_type": "markdown",
      "metadata": {
        "id": "view-in-github",
        "colab_type": "text"
      },
      "source": [
        "<a href=\"https://colab.research.google.com/github/LaansDole/AIO2023_CODE/blob/main/MCMCTH/Day22.ipynb\" target=\"_parent\"><img src=\"https://colab.research.google.com/assets/colab-badge.svg\" alt=\"Open In Colab\"/></a>"
      ]
    },
    {
      "cell_type": "code",
      "execution_count": 1,
      "metadata": {
        "id": "bwNmnpdegvbb"
      },
      "outputs": [],
      "source": [
        "# test sample\n",
        "x = 6.7\n",
        "y = 9.1\n",
        "\n",
        "# init weights\n",
        "b = 0.04\n",
        "w = -0.34\n",
        "lr = 0.01"
      ]
    },
    {
      "cell_type": "code",
      "source": [
        "def predict(x, w, b):\n",
        "  return x*w + b\n",
        "\n",
        "# predict y_hat\n",
        "y_hat = predict(x, w, b)\n",
        "print('y_hat: ', y_hat)"
      ],
      "metadata": {
        "colab": {
          "base_uri": "https://localhost:8080/"
        },
        "id": "i_GBPBh5iojc",
        "outputId": "7151bb9e-74e5-406b-9f4b-d4ae31ee4601"
      },
      "execution_count": 3,
      "outputs": [
        {
          "output_type": "stream",
          "name": "stdout",
          "text": [
            "y_hat:  -2.238\n"
          ]
        }
      ]
    },
    {
      "cell_type": "code",
      "source": [
        "# compute loss\n",
        "loss = (y_hat-y)**2\n",
        "print('loss: ', loss)"
      ],
      "metadata": {
        "colab": {
          "base_uri": "https://localhost:8080/"
        },
        "id": "ANSA-LVBjNvI",
        "outputId": "79770cdb-3eea-412f-8101-205b84f257fc"
      },
      "execution_count": 4,
      "outputs": [
        {
          "output_type": "stream",
          "name": "stdout",
          "text": [
            "loss:  128.550244\n"
          ]
        }
      ]
    },
    {
      "cell_type": "code",
      "source": [
        "def gradient(y_hat, y, x):\n",
        "  return (2*x*(y_hat-y), 2*(y_hat-y))\n",
        "\n",
        "(dw, db) = gradient(y_hat, y, x)\n",
        "print('dw: ', dw)\n",
        "print('db: ', db)"
      ],
      "metadata": {
        "colab": {
          "base_uri": "https://localhost:8080/"
        },
        "id": "_FIfze0Ljd7W",
        "outputId": "fac6159e-e46d-40db-fe5a-505b821105b7"
      },
      "execution_count": 5,
      "outputs": [
        {
          "output_type": "stream",
          "name": "stdout",
          "text": [
            "dw:  -151.92919999999998\n",
            "db:  -22.676\n"
          ]
        }
      ]
    },
    {
      "cell_type": "code",
      "source": [
        "# update weight\n",
        "def update_weight(w, b, lr, dw, db):\n",
        "  w = w - lr*dw\n",
        "  b = b - lr*db\n",
        "  return (w, b)\n",
        "\n",
        "(w, b) = update_weight(w, b, lr, dw, db)\n",
        "print('w_new: ', w)\n",
        "print('b_new', b)"
      ],
      "metadata": {
        "colab": {
          "base_uri": "https://localhost:8080/"
        },
        "id": "YpirARvgkqJX",
        "outputId": "03476a19-3c6b-4a5e-f38f-b88f1b0f128d"
      },
      "execution_count": 6,
      "outputs": [
        {
          "output_type": "stream",
          "name": "stdout",
          "text": [
            "w_new:  1.1792919999999998\n",
            "b_new 0.26676\n"
          ]
        }
      ]
    }
  ]
}