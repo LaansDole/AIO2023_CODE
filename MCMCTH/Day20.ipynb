{
  "nbformat": 4,
  "nbformat_minor": 0,
  "metadata": {
    "colab": {
      "provenance": [],
      "authorship_tag": "ABX9TyP6TeLUP/aPWjKZcBYVeadJ",
      "include_colab_link": true
    },
    "kernelspec": {
      "name": "python3",
      "display_name": "Python 3"
    },
    "language_info": {
      "name": "python"
    }
  },
  "cells": [
    {
      "cell_type": "markdown",
      "metadata": {
        "id": "view-in-github",
        "colab_type": "text"
      },
      "source": [
        "<a href=\"https://colab.research.google.com/github/LaansDole/AIO2023_CODE/blob/main/MCMCTH/Day20.ipynb\" target=\"_parent\"><img src=\"https://colab.research.google.com/assets/colab-badge.svg\" alt=\"Open In Colab\"/></a>"
      ]
    },
    {
      "cell_type": "code",
      "execution_count": 1,
      "metadata": {
        "id": "oDULII6aGvVh"
      },
      "outputs": [],
      "source": [
        "def f_of_x_function(x):\n",
        "  return 2*x - 1"
      ]
    },
    {
      "cell_type": "code",
      "source": [
        "def g_of_f_function(f):\n",
        "  return (f-3)**2"
      ],
      "metadata": {
        "id": "wxW2VtvsNzh2"
      },
      "execution_count": 2,
      "outputs": []
    },
    {
      "cell_type": "code",
      "source": [
        "def g_of_x_function(x):\n",
        "  return g_of_f_function(f_of_x_function(x))"
      ],
      "metadata": {
        "id": "q5eXLwYNN4rh"
      },
      "execution_count": 3,
      "outputs": []
    },
    {
      "cell_type": "code",
      "source": [
        "print(g_of_x_function(1))"
      ],
      "metadata": {
        "colab": {
          "base_uri": "https://localhost:8080/"
        },
        "id": "6yc1W74MPzyX",
        "outputId": "364ea6d2-9ec1-4d69-da9c-c76162812f56"
      },
      "execution_count": 4,
      "outputs": [
        {
          "output_type": "stream",
          "name": "stdout",
          "text": [
            "4\n"
          ]
        }
      ]
    },
    {
      "cell_type": "code",
      "source": [
        "print(g_of_x_function(3.5))"
      ],
      "metadata": {
        "colab": {
          "base_uri": "https://localhost:8080/"
        },
        "id": "fELWl0HIP6eN",
        "outputId": "ce7a64cf-6718-4d79-de9b-c8912c009121"
      },
      "execution_count": 7,
      "outputs": [
        {
          "output_type": "stream",
          "name": "stdout",
          "text": [
            "9.0\n"
          ]
        }
      ]
    },
    {
      "cell_type": "code",
      "source": [
        "def dg_df_function():\n",
        "  return 2"
      ],
      "metadata": {
        "id": "xbz4NTfdP_wK"
      },
      "execution_count": 12,
      "outputs": []
    },
    {
      "cell_type": "code",
      "source": [
        "def df_dx_function(x):\n",
        "  return 2*(f_of_x_function(x)-3)"
      ],
      "metadata": {
        "id": "90hJWvnMQoQn"
      },
      "execution_count": 13,
      "outputs": []
    },
    {
      "cell_type": "code",
      "source": [
        "def dg_dx_function(x):\n",
        "  return dg_df_function()*df_dx_function(x)"
      ],
      "metadata": {
        "id": "CfPpPRNmQ_9Q"
      },
      "execution_count": 14,
      "outputs": []
    },
    {
      "cell_type": "code",
      "source": [
        "print(dg_dx_function(1))"
      ],
      "metadata": {
        "colab": {
          "base_uri": "https://localhost:8080/"
        },
        "id": "ACBtOyAqRMuE",
        "outputId": "35fc24c7-832f-4279-e673-9c8cafc6aa8d"
      },
      "execution_count": 15,
      "outputs": [
        {
          "output_type": "stream",
          "name": "stdout",
          "text": [
            "-8\n"
          ]
        }
      ]
    },
    {
      "cell_type": "code",
      "source": [
        "print(dg_dx_function(3.5))"
      ],
      "metadata": {
        "colab": {
          "base_uri": "https://localhost:8080/"
        },
        "id": "xw-XTtWURQKl",
        "outputId": "c8747544-9c90-434b-9873-2faefc14f664"
      },
      "execution_count": 16,
      "outputs": [
        {
          "output_type": "stream",
          "name": "stdout",
          "text": [
            "12.0\n"
          ]
        }
      ]
    },
    {
      "cell_type": "code",
      "source": [],
      "metadata": {
        "id": "BkF4A0GURpoH"
      },
      "execution_count": null,
      "outputs": []
    }
  ]
}