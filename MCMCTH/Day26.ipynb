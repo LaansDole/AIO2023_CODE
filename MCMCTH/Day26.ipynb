{
  "nbformat": 4,
  "nbformat_minor": 0,
  "metadata": {
    "colab": {
      "provenance": [],
      "authorship_tag": "ABX9TyNzHTQ4le4bukCVEvuChTzj",
      "include_colab_link": true
    },
    "kernelspec": {
      "name": "python3",
      "display_name": "Python 3"
    },
    "language_info": {
      "name": "python"
    }
  },
  "cells": [
    {
      "cell_type": "markdown",
      "metadata": {
        "id": "view-in-github",
        "colab_type": "text"
      },
      "source": [
        "<a href=\"https://colab.research.google.com/github/LaansDole/AIO2023_CODE/blob/main/MCMCTH/Day27.ipynb\" target=\"_parent\"><img src=\"https://colab.research.google.com/assets/colab-badge.svg\" alt=\"Open In Colab\"/></a>"
      ]
    },
    {
      "cell_type": "code",
      "execution_count": 2,
      "metadata": {
        "id": "OL4Ui9cZnPxt"
      },
      "outputs": [],
      "source": [
        "import numpy as np\n",
        "\n",
        "def matrix_subtraction(data_x, data_y):\n",
        "  x = np.array(data_x)\n",
        "  y = np.array(data_y)\n",
        "  return x - y"
      ]
    },
    {
      "cell_type": "code",
      "source": [
        "x = [[5],[6],[7],[8]]\n",
        "y = [[1],[2],[3],[4]]\n",
        "\n",
        "print(matrix_subtraction(x, y))"
      ],
      "metadata": {
        "colab": {
          "base_uri": "https://localhost:8080/"
        },
        "id": "sTkiR1B4xrYw",
        "outputId": "ba877b8a-e529-40ec-855a-edcf0e5f42bf"
      },
      "execution_count": 12,
      "outputs": [
        {
          "output_type": "stream",
          "name": "stdout",
          "text": [
            "[[4]\n",
            " [4]\n",
            " [4]\n",
            " [4]]\n"
          ]
        }
      ]
    },
    {
      "cell_type": "code",
      "source": [
        "def matrix_transpose(matrix):\n",
        "  m = np.array(matrix)\n",
        "  return m.T"
      ],
      "metadata": {
        "id": "vDLPLL07zHfs"
      },
      "execution_count": 4,
      "outputs": []
    },
    {
      "cell_type": "code",
      "source": [
        "matrix = [[1,2], [3,4]]\n",
        "print(matrix_transpose(matrix))"
      ],
      "metadata": {
        "colab": {
          "base_uri": "https://localhost:8080/"
        },
        "id": "ftaeci332QAK",
        "outputId": "e3a8125d-0c22-45d3-c7fe-036acd826091"
      },
      "execution_count": 5,
      "outputs": [
        {
          "output_type": "stream",
          "name": "stdout",
          "text": [
            "[[1 3]\n",
            " [2 4]]\n"
          ]
        }
      ]
    },
    {
      "cell_type": "code",
      "source": [
        "def matrix_multiplication(matrix_x, matrix_y):\n",
        "  x = np.array(matrix_x)\n",
        "  y = np.array(matrix_y)\n",
        "  return np.dot(x, y)"
      ],
      "metadata": {
        "id": "pF-DbZu62nw7"
      },
      "execution_count": 15,
      "outputs": []
    },
    {
      "cell_type": "code",
      "source": [
        "print(matrix_multiplication([1,2,3],2))"
      ],
      "metadata": {
        "colab": {
          "base_uri": "https://localhost:8080/"
        },
        "id": "TXiv9PZW4Vpp",
        "outputId": "1a86f5d0-48c2-4970-f800-77bb090a17a9"
      },
      "execution_count": 16,
      "outputs": [
        {
          "output_type": "stream",
          "name": "stdout",
          "text": [
            "[2 4 6]\n"
          ]
        }
      ]
    },
    {
      "cell_type": "code",
      "source": [
        "print(matrix_multiplication([1,2], [[2],[3]]))"
      ],
      "metadata": {
        "colab": {
          "base_uri": "https://localhost:8080/"
        },
        "id": "YFaWc9SP4oPZ",
        "outputId": "c467375f-3b05-4f33-e0af-b9dba0a5271b"
      },
      "execution_count": 17,
      "outputs": [
        {
          "output_type": "stream",
          "name": "stdout",
          "text": [
            "[8]\n"
          ]
        }
      ]
    }
  ]
}
