{
  "nbformat": 4,
  "nbformat_minor": 0,
  "metadata": {
    "colab": {
      "provenance": [],
      "authorship_tag": "ABX9TyP3Jxox+l8pg2cOrWTMMhQ0",
      "include_colab_link": true
    },
    "kernelspec": {
      "name": "python3",
      "display_name": "Python 3"
    },
    "language_info": {
      "name": "python"
    }
  },
  "cells": [
    {
      "cell_type": "markdown",
      "metadata": {
        "id": "view-in-github",
        "colab_type": "text"
      },
      "source": [
        "<a href=\"https://colab.research.google.com/github/LaansDole/AIO2023_CODE/blob/main/MCMCTH/Day16.ipynb\" target=\"_parent\"><img src=\"https://colab.research.google.com/assets/colab-badge.svg\" alt=\"Open In Colab\"/></a>"
      ]
    },
    {
      "cell_type": "code",
      "execution_count": 1,
      "metadata": {
        "id": "C8NEPOqPtavC"
      },
      "outputs": [],
      "source": [
        "def print_2d_list(data): # Print out the list in the matrix\n",
        "  for vector in data:\n",
        "    print(vector)"
      ]
    },
    {
      "cell_type": "code",
      "source": [
        "def derivative_x(data, height, width):\n",
        "  result = [[0]*width for _ in range(height)]\n",
        "\n",
        "  # get rows and compute derivative\n",
        "  for i in range(height):\n",
        "\n",
        "    # for each row\n",
        "    for j in range(width-1): # width-1 is used to prevent out of bounds when j+1 moves to the last number in the matrix\n",
        "\n",
        "      # Based on the formula: 𝑓′(𝑥)=lim𝜀→0((𝑓(𝑥+𝜀)−𝑓(𝑥))/𝜀)\n",
        "      # The program is implementing forward difference\n",
        "\n",
        "      d_value = data[i][j+1]-data[i][j]\n",
        "      # f(x) corresponds to the data matrix, \n",
        "      # x corresponds to the column index j\n",
        "      # 𝜀 or delta-x is 1 \n",
        "      \n",
        "      result[i][j] = d_value\n",
        "\n",
        "  return result"
      ],
      "metadata": {
        "id": "BaSxzpSCuC9X"
      },
      "execution_count": 3,
      "outputs": []
    },
    {
      "cell_type": "code",
      "source": [
        "data = [[1,5,3,9,5,7],\n",
        "        [6,3,7,9,3,5]]\n",
        "print_2d_list(data)"
      ],
      "metadata": {
        "colab": {
          "base_uri": "https://localhost:8080/"
        },
        "id": "z7ZlnZ-6usGl",
        "outputId": "a3e2484a-5c56-45ac-aeea-d4ebebf20d4c"
      },
      "execution_count": 6,
      "outputs": [
        {
          "output_type": "stream",
          "name": "stdout",
          "text": [
            "[1, 5, 3, 9, 5, 7]\n",
            "[6, 3, 7, 9, 3, 5]\n"
          ]
        }
      ]
    },
    {
      "cell_type": "code",
      "source": [
        "print(data)"
      ],
      "metadata": {
        "colab": {
          "base_uri": "https://localhost:8080/"
        },
        "id": "-SuzV7sj2unn",
        "outputId": "d487a7c2-7e99-4890-ed0f-7bda832f50c0"
      },
      "execution_count": 7,
      "outputs": [
        {
          "output_type": "stream",
          "name": "stdout",
          "text": [
            "[[1, 5, 3, 9, 5, 7], [6, 3, 7, 9, 3, 5]]\n"
          ]
        }
      ]
    },
    {
      "cell_type": "code",
      "source": [
        "result = derivative_x(data, 2, 6)\n",
        "print_2d_list(result)"
      ],
      "metadata": {
        "colab": {
          "base_uri": "https://localhost:8080/"
        },
        "id": "UdAu0jZEvaKk",
        "outputId": "1c79f0dc-a65c-49cc-a5b0-270b8fdaf032"
      },
      "execution_count": 5,
      "outputs": [
        {
          "output_type": "stream",
          "name": "stdout",
          "text": [
            "[4, -2, 6, -4, 2, 0]\n",
            "[-3, 4, 2, -6, 2, 0]\n"
          ]
        }
      ]
    },
    {
      "cell_type": "code",
      "source": [
        "print(result)"
      ],
      "metadata": {
        "colab": {
          "base_uri": "https://localhost:8080/"
        },
        "id": "lnluqrV422aB",
        "outputId": "8880ec4c-3869-4321-8345-5c734feb95ba"
      },
      "execution_count": 8,
      "outputs": [
        {
          "output_type": "stream",
          "name": "stdout",
          "text": [
            "[[4, -2, 6, -4, 2, 0], [-3, 4, 2, -6, 2, 0]]\n"
          ]
        }
      ]
    },
    {
      "cell_type": "code",
      "source": [],
      "metadata": {
        "id": "QQs9VABsvkAU"
      },
      "execution_count": null,
      "outputs": []
    }
  ]
}