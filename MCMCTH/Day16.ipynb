{
  "nbformat": 4,
  "nbformat_minor": 0,
  "metadata": {
    "colab": {
      "provenance": [],
      "authorship_tag": "ABX9TyO9Ytv9eZm/EtGiuHkHPbc0",
      "include_colab_link": true
    },
    "kernelspec": {
      "name": "python3",
      "display_name": "Python 3"
    },
    "language_info": {
      "name": "python"
    }
  },
  "cells": [
    {
      "cell_type": "markdown",
      "metadata": {
        "id": "view-in-github",
        "colab_type": "text"
      },
      "source": [
        "<a href=\"https://colab.research.google.com/github/LaansDole/AIO2023_CODE/blob/main/MCMCTH/Day16.ipynb\" target=\"_parent\"><img src=\"https://colab.research.google.com/assets/colab-badge.svg\" alt=\"Open In Colab\"/></a>"
      ]
    },
    {
      "cell_type": "code",
      "execution_count": 1,
      "metadata": {
        "id": "C8NEPOqPtavC"
      },
      "outputs": [],
      "source": [
        "def print_2d_list(data):\n",
        "  for vector in data:\n",
        "    print(vector)"
      ]
    },
    {
      "cell_type": "code",
      "source": [
        "def derivative_x(data, height, width):\n",
        "  result = [[0]*width for _ in range(height)]\n",
        "\n",
        "  # get rows and compute derivative\n",
        "  for i in range(height):\n",
        "\n",
        "    # for each row\n",
        "    for j in range(width-1):\n",
        "      d_value = data[i][j+1]-data[i][j]\n",
        "      result[i][j] = d_value\n",
        "\n",
        "  return result"
      ],
      "metadata": {
        "id": "BaSxzpSCuC9X"
      },
      "execution_count": 3,
      "outputs": []
    },
    {
      "cell_type": "code",
      "source": [
        "data = [[1,5,3,9,5,7],\n",
        "        [6,3,7,9,3,5]]\n",
        "print_2d_list(data)"
      ],
      "metadata": {
        "colab": {
          "base_uri": "https://localhost:8080/"
        },
        "id": "z7ZlnZ-6usGl",
        "outputId": "8c0fbf86-44ed-4879-e6ae-0316de652db1"
      },
      "execution_count": 4,
      "outputs": [
        {
          "output_type": "stream",
          "name": "stdout",
          "text": [
            "[1, 5, 3, 9, 5, 7]\n",
            "[6, 3, 7, 9, 3, 5]\n"
          ]
        }
      ]
    },
    {
      "cell_type": "code",
      "source": [
        "result = derivative_x(data, 2, 6)\n",
        "print_2d_list(result)"
      ],
      "metadata": {
        "colab": {
          "base_uri": "https://localhost:8080/"
        },
        "id": "UdAu0jZEvaKk",
        "outputId": "1c79f0dc-a65c-49cc-a5b0-270b8fdaf032"
      },
      "execution_count": 5,
      "outputs": [
        {
          "output_type": "stream",
          "name": "stdout",
          "text": [
            "[4, -2, 6, -4, 2, 0]\n",
            "[-3, 4, 2, -6, 2, 0]\n"
          ]
        }
      ]
    },
    {
      "cell_type": "code",
      "source": [],
      "metadata": {
        "id": "QQs9VABsvkAU"
      },
      "execution_count": null,
      "outputs": []
    }
  ]
}