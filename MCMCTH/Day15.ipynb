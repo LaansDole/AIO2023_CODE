{
  "nbformat": 4,
  "nbformat_minor": 0,
  "metadata": {
    "colab": {
      "provenance": [],
      "authorship_tag": "ABX9TyMIQ0JgcBT3Yteoi4Fo1xVV",
      "include_colab_link": true
    },
    "kernelspec": {
      "name": "python3",
      "display_name": "Python 3"
    },
    "language_info": {
      "name": "python"
    }
  },
  "cells": [
    {
      "cell_type": "markdown",
      "metadata": {
        "id": "view-in-github",
        "colab_type": "text"
      },
      "source": [
        "<a href=\"https://colab.research.google.com/github/LaansDole/AIO2023_CODE/blob/main/MCMCTH/Day15.ipynb\" target=\"_parent\"><img src=\"https://colab.research.google.com/assets/colab-badge.svg\" alt=\"Open In Colab\"/></a>"
      ]
    },
    {
      "cell_type": "code",
      "execution_count": 1,
      "metadata": {
        "id": "eyNps_4ZwHHh"
      },
      "outputs": [],
      "source": [
        "def func(x, N):\n",
        "  return x**2 - N"
      ]
    },
    {
      "cell_type": "code",
      "source": [
        "def derivative(x):\n",
        "  return 2*x"
      ],
      "metadata": {
        "id": "m2MenHtqyNnB"
      },
      "execution_count": 2,
      "outputs": []
    },
    {
      "cell_type": "code",
      "source": [
        "def compute_square_root_w1(N, num_loops): \n",
        "  x_n = N\n",
        "\n",
        "  for i in range(num_loops):\n",
        "    print(x_n)\n",
        "    x_n = x_n - func(x_n, N)/derivative(x_n) \n",
        "\n",
        "  x_np1 = x_n\n",
        "  return x_np1"
      ],
      "metadata": {
        "id": "_grBziiiyUKz"
      },
      "execution_count": 10,
      "outputs": []
    },
    {
      "cell_type": "code",
      "source": [
        "print(compute_square_root_w1(9, 6))"
      ],
      "metadata": {
        "colab": {
          "base_uri": "https://localhost:8080/"
        },
        "id": "iJqQjefQGCsC",
        "outputId": "3f0a569e-a3ae-446a-967b-86107dfafa89"
      },
      "execution_count": 11,
      "outputs": [
        {
          "output_type": "stream",
          "name": "stdout",
          "text": [
            "9\n",
            "5.0\n",
            "3.4\n",
            "3.023529411764706\n",
            "3.00009155413138\n",
            "3.000000001396984\n",
            "3.0\n"
          ]
        }
      ]
    },
    {
      "cell_type": "code",
      "source": [
        "def compute_square_root_w2(N, num_loops):\n",
        "\n",
        "  x_np1 = w2_helper(N, num_loops, N)\n",
        "  return x_np1"
      ],
      "metadata": {
        "id": "wnAtJN-YICIW"
      },
      "execution_count": 12,
      "outputs": []
    },
    {
      "cell_type": "code",
      "source": [
        "def w2_helper(N, num_loops, x_n):\n",
        "  if num_loops == 0:\n",
        "    return x_n\n",
        "  \n",
        "  print(x_n)\n",
        "  x_n = (x_n + N/x_n)/2\n",
        "  num_loops -= 1\n",
        "  return w2_helper(N, num_loops, x_n)\n"
      ],
      "metadata": {
        "id": "fecz65n2IKu3"
      },
      "execution_count": 15,
      "outputs": []
    },
    {
      "cell_type": "code",
      "source": [
        "print(compute_square_root_w2(9, 6))"
      ],
      "metadata": {
        "colab": {
          "base_uri": "https://localhost:8080/"
        },
        "id": "U9-IxPfqJLpl",
        "outputId": "f31c8770-d360-49b2-b63d-aa851aa81247"
      },
      "execution_count": 16,
      "outputs": [
        {
          "output_type": "stream",
          "name": "stdout",
          "text": [
            "9\n",
            "5.0\n",
            "3.4\n",
            "3.023529411764706\n",
            "3.00009155413138\n",
            "3.000000001396984\n",
            "3.0\n"
          ]
        }
      ]
    }
  ]
}