{
  "nbformat": 4,
  "nbformat_minor": 0,
  "metadata": {
    "colab": {
      "provenance": [],
      "authorship_tag": "ABX9TyO8ucBPiDoqHrAyLnf89dWQ",
      "include_colab_link": true
    },
    "kernelspec": {
      "name": "python3",
      "display_name": "Python 3"
    },
    "language_info": {
      "name": "python"
    }
  },
  "cells": [
    {
      "cell_type": "markdown",
      "metadata": {
        "id": "view-in-github",
        "colab_type": "text"
      },
      "source": [
        "<a href=\"https://colab.research.google.com/github/LaansDole/AIO2023_CODE/blob/main/MCMCTH/Day21.ipynb\" target=\"_parent\"><img src=\"https://colab.research.google.com/assets/colab-badge.svg\" alt=\"Open In Colab\"/></a>"
      ]
    },
    {
      "cell_type": "code",
      "execution_count": 5,
      "metadata": {
        "colab": {
          "base_uri": "https://localhost:8080/"
        },
        "id": "jzKveHp5px-a",
        "outputId": "33e99077-661d-4231-9c96-ecb7674aaff1"
      },
      "outputs": [
        {
          "output_type": "stream",
          "name": "stdout",
          "text": [
            "5\n",
            "5\n"
          ]
        }
      ],
      "source": [
        "# y = ax + b\n",
        "def compute_y_w1(x, a, b):\n",
        "  return a*x + b\n",
        "\n",
        "def compute_y_w2(list1, list2):\n",
        "  result = sum([list1[i]*list2[i] for i in range(len(list1))])\n",
        "  return result\n",
        "\n",
        "x = 3\n",
        "a = 1\n",
        "b = 2\n",
        "\n",
        "list1 = [x,1]\n",
        "list2 = [a,b]\n",
        "\n",
        "print(compute_y_w1(x,a,b))\n",
        "print(compute_y_w2(list1, list2))"
      ]
    }
  ]
}