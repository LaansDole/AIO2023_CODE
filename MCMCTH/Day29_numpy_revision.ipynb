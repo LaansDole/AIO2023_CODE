{
  "nbformat": 4,
  "nbformat_minor": 0,
  "metadata": {
    "colab": {
      "provenance": [],
      "authorship_tag": "ABX9TyOqvC4G0y9WLSVaZfeRdJG2",
      "include_colab_link": true
    },
    "kernelspec": {
      "name": "python3",
      "display_name": "Python 3"
    },
    "language_info": {
      "name": "python"
    }
  },
  "cells": [
    {
      "cell_type": "markdown",
      "metadata": {
        "id": "view-in-github",
        "colab_type": "text"
      },
      "source": [
        "<a href=\"https://colab.research.google.com/github/LaansDole/AIO2023_CODE/blob/main/MCMCTH/Day29_numpy_revision.ipynb\" target=\"_parent\"><img src=\"https://colab.research.google.com/assets/colab-badge.svg\" alt=\"Open In Colab\"/></a>"
      ]
    },
    {
      "cell_type": "code",
      "execution_count": 1,
      "metadata": {
        "colab": {
          "base_uri": "https://localhost:8080/"
        },
        "id": "Pv6lDOmCaryv",
        "outputId": "7a32eedc-d309-4de4-98f5-52a92177ccf5"
      },
      "outputs": [
        {
          "output_type": "stream",
          "name": "stdout",
          "text": [
            "1.22.4\n"
          ]
        }
      ],
      "source": [
        "import numpy as np\n",
        "print(np.version.version)"
      ]
    },
    {
      "cell_type": "code",
      "source": [
        "data_1D = np.arange(4,10)\n",
        "print(data_1D)"
      ],
      "metadata": {
        "colab": {
          "base_uri": "https://localhost:8080/"
        },
        "id": "yTFhOKQIbNIN",
        "outputId": "b155db4f-d73b-4b76-f292-b9f9f75f6cae"
      },
      "execution_count": 5,
      "outputs": [
        {
          "output_type": "stream",
          "name": "stdout",
          "text": [
            "[4 5 6 7 8 9]\n"
          ]
        }
      ]
    },
    {
      "cell_type": "code",
      "source": [
        "data_3D_1 = np.ones((3,3), dtype = int)\n",
        "print(data_3D_1)"
      ],
      "metadata": {
        "colab": {
          "base_uri": "https://localhost:8080/"
        },
        "id": "XuFunw74bTMj",
        "outputId": "318c2f31-bf11-4a00-bb24-02add258947b"
      },
      "execution_count": 6,
      "outputs": [
        {
          "output_type": "stream",
          "name": "stdout",
          "text": [
            "[[1 1 1]\n",
            " [1 1 1]\n",
            " [1 1 1]]\n"
          ]
        }
      ]
    },
    {
      "cell_type": "code",
      "source": [
        "data_3D_2 = np.ones((3,3)) > 0\n",
        "print(data_3D_2)"
      ],
      "metadata": {
        "colab": {
          "base_uri": "https://localhost:8080/"
        },
        "id": "1l_Ax8xEbxnU",
        "outputId": "42cdad00-cada-482b-8dec-855e7836df24"
      },
      "execution_count": 8,
      "outputs": [
        {
          "output_type": "stream",
          "name": "stdout",
          "text": [
            "[[ True  True  True]\n",
            " [ True  True  True]\n",
            " [ True  True  True]]\n"
          ]
        }
      ]
    },
    {
      "cell_type": "code",
      "source": [
        "data_3D_3 = np.ones((3,3), dtype = bool)\n",
        "print(data_3D_3)"
      ],
      "metadata": {
        "colab": {
          "base_uri": "https://localhost:8080/"
        },
        "id": "Vjfuv6s6b9iU",
        "outputId": "63390ce6-a7e0-4830-913f-4285e1ad0657"
      },
      "execution_count": 10,
      "outputs": [
        {
          "output_type": "stream",
          "name": "stdout",
          "text": [
            "[[ True  True  True]\n",
            " [ True  True  True]\n",
            " [ True  True  True]]\n"
          ]
        }
      ]
    },
    {
      "cell_type": "code",
      "source": [
        "# Conditions\n",
        "data_4 = np.arange(10)\n",
        "data_4_w1 = [d for d in data_4 if (d%2 == 1)]\n",
        "print(np.array(data_4_w1))\n",
        "\n",
        "data_4_w2  = data_4[data_4%2==1]\n",
        "print(data_4_w2)"
      ],
      "metadata": {
        "colab": {
          "base_uri": "https://localhost:8080/"
        },
        "id": "7a_w0WtycLC8",
        "outputId": "0f3782ba-0f86-4183-d6f8-660ba5029a1a"
      },
      "execution_count": 16,
      "outputs": [
        {
          "output_type": "stream",
          "name": "stdout",
          "text": [
            "[1 3 5 7 9]\n",
            "[1 3 5 7 9]\n"
          ]
        }
      ]
    },
    {
      "cell_type": "code",
      "source": [
        "# Replace odd numbers by -1\n",
        "out = np.where(data_4%2 == 1, -1, data_4)\n",
        "print(out)"
      ],
      "metadata": {
        "colab": {
          "base_uri": "https://localhost:8080/"
        },
        "id": "QGC186OeciXk",
        "outputId": "ee31148d-7f11-467e-a4ce-e1d2514e2602"
      },
      "execution_count": 18,
      "outputs": [
        {
          "output_type": "stream",
          "name": "stdout",
          "text": [
            "[ 0 -1  2 -1  4 -1  6 -1  8 -1]\n"
          ]
        }
      ]
    },
    {
      "cell_type": "code",
      "source": [
        "# Reshape\n",
        "\n",
        "data_5 = np.arange(10).reshape(2,5)\n",
        "print(data_5)"
      ],
      "metadata": {
        "colab": {
          "base_uri": "https://localhost:8080/"
        },
        "id": "essKc2bQhcuB",
        "outputId": "2d0f974d-772b-4ef3-9dc4-a76868284a16"
      },
      "execution_count": 36,
      "outputs": [
        {
          "output_type": "stream",
          "name": "stdout",
          "text": [
            "[[0 1 2 3 4]\n",
            " [5 6 7 8 9]]\n"
          ]
        }
      ]
    },
    {
      "cell_type": "code",
      "source": [
        "data_6 = np.repeat(7,10).reshape(2,-1)\n",
        "print(data_6)"
      ],
      "metadata": {
        "colab": {
          "base_uri": "https://localhost:8080/"
        },
        "id": "lAptKLvnn3Vv",
        "outputId": "527595d1-6d50-48b9-dc89-8af4699e57bd"
      },
      "execution_count": 38,
      "outputs": [
        {
          "output_type": "stream",
          "name": "stdout",
          "text": [
            "[[7 7 7 7 7]\n",
            " [7 7 7 7 7]]\n"
          ]
        }
      ]
    },
    {
      "cell_type": "code",
      "source": [
        "out1 = np.concatenate([data_5, data_6], axis = 0)\n",
        "print(out1)"
      ],
      "metadata": {
        "colab": {
          "base_uri": "https://localhost:8080/"
        },
        "id": "cSdUrzluoUGc",
        "outputId": "0e4118af-84c3-414f-936d-2069b4c549be"
      },
      "execution_count": 37,
      "outputs": [
        {
          "output_type": "stream",
          "name": "stdout",
          "text": [
            "[[0 1 2 3 4]\n",
            " [5 6 7 8 9]\n",
            " [7 7 7 7 7]\n",
            " [7 7 7 7 7]]\n"
          ]
        }
      ]
    },
    {
      "cell_type": "code",
      "source": [
        "out2 = np.vstack([data_5, data_6])\n",
        "print(out2)"
      ],
      "metadata": {
        "colab": {
          "base_uri": "https://localhost:8080/"
        },
        "id": "9GqT_oO8ouvF",
        "outputId": "33bcc6c5-02f3-42c4-e6d0-41393911d600"
      },
      "execution_count": 32,
      "outputs": [
        {
          "output_type": "stream",
          "name": "stdout",
          "text": [
            "[[0 1 2 3 4]\n",
            " [5 6 7 8 9]\n",
            " [7 7 7 7 7]\n",
            " [7 7 7 7 7]]\n"
          ]
        }
      ]
    },
    {
      "cell_type": "code",
      "source": [
        "out3 = np.hstack([data_5, data_6])\n",
        "print(out3)"
      ],
      "metadata": {
        "colab": {
          "base_uri": "https://localhost:8080/"
        },
        "id": "KGgOqQzhpEEz",
        "outputId": "3fcfc4a7-c19c-4c05-cd6c-0516290e3625"
      },
      "execution_count": 40,
      "outputs": [
        {
          "output_type": "stream",
          "name": "stdout",
          "text": [
            "[[0 1 2 3 4 7 7 7 7 7]\n",
            " [5 6 7 8 9 7 7 7 7 7]]\n"
          ]
        }
      ]
    },
    {
      "cell_type": "code",
      "source": [
        "# Return common elements\n",
        "out4 = np.intersect1d(np.arange(10), np.repeat(7,10))\n",
        "print(out4)"
      ],
      "metadata": {
        "colab": {
          "base_uri": "https://localhost:8080/"
        },
        "id": "2X_p1bTAqTAb",
        "outputId": "03bcb2ca-d6ee-4d71-e248-0b6a06b9d6b1"
      },
      "execution_count": 43,
      "outputs": [
        {
          "output_type": "stream",
          "name": "stdout",
          "text": [
            "[7]\n"
          ]
        }
      ]
    },
    {
      "cell_type": "code",
      "source": [
        "# Return positions of common elements\n",
        "data1 = np.array([1,2,3,4,5,6])\n",
        "data2 = np.array([1,1,1,6,6,6])\n",
        "\n",
        "# compare the two arrays\n",
        "comp = (data1==data2).nonzero()\n",
        "print(comp)"
      ],
      "metadata": {
        "colab": {
          "base_uri": "https://localhost:8080/"
        },
        "id": "_GS0EhgAqXaT",
        "outputId": "dd08394f-75fa-4d3e-8621-295e3f9630e6"
      },
      "execution_count": 50,
      "outputs": [
        {
          "output_type": "stream",
          "name": "stdout",
          "text": [
            "(array([0, 5]),)\n"
          ]
        }
      ]
    },
    {
      "cell_type": "code",
      "source": [],
      "metadata": {
        "id": "HQIt5sQ3rXwM"
      },
      "execution_count": null,
      "outputs": []
    }
  ]
}