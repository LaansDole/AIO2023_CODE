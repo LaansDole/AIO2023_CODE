{
  "nbformat": 4,
  "nbformat_minor": 0,
  "metadata": {
    "colab": {
      "provenance": [],
      "authorship_tag": "ABX9TyMkR9RmrxxdkjoDDd3PuSDG",
      "include_colab_link": true
    },
    "kernelspec": {
      "name": "python3",
      "display_name": "Python 3"
    },
    "language_info": {
      "name": "python"
    }
  },
  "cells": [
    {
      "cell_type": "markdown",
      "metadata": {
        "id": "view-in-github",
        "colab_type": "text"
      },
      "source": [
        "<a href=\"https://colab.research.google.com/github/LaansDole/AIO2023_CODE/blob/main/MCMCTH/Day14.ipynb\" target=\"_parent\"><img src=\"https://colab.research.google.com/assets/colab-badge.svg\" alt=\"Open In Colab\"/></a>"
      ]
    },
    {
      "cell_type": "code",
      "execution_count": 5,
      "metadata": {
        "id": "ZoDDEEwFIEQW"
      },
      "outputs": [],
      "source": [
        "def get_column(data, index):\n",
        "  result = [i[index] for i in data]\n",
        "\n",
        "  return result"
      ]
    },
    {
      "cell_type": "code",
      "source": [
        "data = [\n",
        "    [6.7, 9.1],\n",
        "    [4.6, 5.9],\n",
        "    [3.5, 4.6],\n",
        "    [5.5, 6.7]\n",
        "]\n",
        "\n",
        "col0 = get_column(data, 0)\n",
        "print(col0, \"\\n\")\n",
        "\n",
        "col1 = get_column(data, 1)\n",
        "print(col1)"
      ],
      "metadata": {
        "colab": {
          "base_uri": "https://localhost:8080/"
        },
        "id": "QN8qyWrtI81e",
        "outputId": "dd0d8f96-4aff-47fa-99a7-de4fdd162a5d"
      },
      "execution_count": 10,
      "outputs": [
        {
          "output_type": "stream",
          "name": "stdout",
          "text": [
            "[6.7, 4.6, 3.5, 5.5] \n",
            "\n",
            "[9.1, 5.9, 4.6, 6.7]\n"
          ]
        }
      ]
    }
  ]
}