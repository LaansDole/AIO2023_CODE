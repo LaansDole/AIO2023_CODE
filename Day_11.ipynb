{
  "nbformat": 4,
  "nbformat_minor": 0,
  "metadata": {
    "colab": {
      "provenance": [],
      "authorship_tag": "ABX9TyNu9afYM0TSyue3J5Y8U0S0",
      "include_colab_link": true
    },
    "kernelspec": {
      "name": "python3",
      "display_name": "Python 3"
    },
    "language_info": {
      "name": "python"
    }
  },
  "cells": [
    {
      "cell_type": "markdown",
      "metadata": {
        "id": "view-in-github",
        "colab_type": "text"
      },
      "source": [
        "<a href=\"https://colab.research.google.com/github/LaansDole/AIO2023_CODE/blob/main/Day_11.ipynb\" target=\"_parent\"><img src=\"https://colab.research.google.com/assets/colab-badge.svg\" alt=\"Open In Colab\"/></a>"
      ]
    },
    {
      "cell_type": "code",
      "execution_count": null,
      "metadata": {
        "id": "XejrhAOouif3"
      },
      "outputs": [],
      "source": [
        "import math"
      ]
    },
    {
      "cell_type": "code",
      "source": [
        "def resize_nni_1(source, source_h, source_w, target_h, target_w):\n",
        "  # Calculate horizontal and vertical scaling factor\n",
        "  k = 2\n",
        "\n",
        "  # step 1\n",
        "  new_data_1 = [[0]*target_w for _ in range(source_h)]\n",
        "  for i in range(source_h):\n",
        "    for j in range(target_w):\n",
        "      new_data_1[i][j] = source[i][j//k]\n",
        "  \n",
        "  inspect_data_1(new_data_1)\n",
        "\n",
        "  # step 2\n",
        "  new_data_2 = [[0]*target_w for _ in range(target_h)]\n",
        "  for i in range(target_w):\n",
        "    for j in range(target_h):\n",
        "      new_data_2[i][j] = new_data_1[i//k][j]\n",
        " \n",
        "\n",
        "  return new_data_2"
      ],
      "metadata": {
        "id": "Y0k5Evc0WQZZ"
      },
      "execution_count": null,
      "outputs": []
    },
    {
      "cell_type": "code",
      "source": [
        "def inspect_data_1(new_data_1):\n",
        "  for row in new_data_1:\n",
        "    print(row)"
      ],
      "metadata": {
        "id": "69J6PofSfGU7"
      },
      "execution_count": null,
      "outputs": []
    },
    {
      "cell_type": "code",
      "source": [
        "# test\n",
        "data = [\n",
        "    [0,1,2],\n",
        "    [3,4,5],\n",
        "    [6,7,8]\n",
        "]\n",
        "\n",
        "new_data = resize_nni_1(data, 3, 3, 6, 6)\n",
        "print(\"\\n\")\n",
        "for row in new_data:\n",
        "  print(row)"
      ],
      "metadata": {
        "colab": {
          "base_uri": "https://localhost:8080/"
        },
        "id": "O0x_IzptX3Ke",
        "outputId": "77f234cb-4d11-4339-f298-d3caf76e0dae"
      },
      "execution_count": null,
      "outputs": [
        {
          "output_type": "stream",
          "name": "stdout",
          "text": [
            "[0, 0, 1, 1, 2, 2]\n",
            "[3, 3, 4, 4, 5, 5]\n",
            "[6, 6, 7, 7, 8, 8]\n",
            "\n",
            "\n",
            "[0, 0, 1, 1, 2, 2]\n",
            "[0, 0, 1, 1, 2, 2]\n",
            "[3, 3, 4, 4, 5, 5]\n",
            "[3, 3, 4, 4, 5, 5]\n",
            "[6, 6, 7, 7, 8, 8]\n",
            "[6, 6, 7, 7, 8, 8]\n"
          ]
        }
      ]
    }
  ]
}